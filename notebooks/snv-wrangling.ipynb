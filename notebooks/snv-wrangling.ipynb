{
 "cells": [
  {
   "cell_type": "code",
   "execution_count": 1,
   "metadata": {},
   "outputs": [],
   "source": [
    "import os\n",
    "import re\n",
    "import sys\n",
    "import logging\n",
    "\n",
    "from pathlib import Path\n",
    "import requests\n",
    "import pandas as pd\n",
    "ix = pd.IndexSlice\n",
    "import numpy as np\n",
    "import matplotlib.pyplot as plt\n",
    "import seaborn as sns\n",
    "\n",
    "from IPython.core.interactiveshell import InteractiveShell\n",
    "InteractiveShell.ast_node_interactivity = 'all'"
   ]
  },
  {
   "cell_type": "code",
   "execution_count": 7,
   "metadata": {},
   "outputs": [
    {
     "data": {
      "text/html": [
       "<div>\n",
       "<style scoped>\n",
       "    .dataframe tbody tr th:only-of-type {\n",
       "        vertical-align: middle;\n",
       "    }\n",
       "\n",
       "    .dataframe tbody tr th {\n",
       "        vertical-align: top;\n",
       "    }\n",
       "\n",
       "    .dataframe thead th {\n",
       "        text-align: right;\n",
       "    }\n",
       "</style>\n",
       "<table border=\"1\" class=\"dataframe\">\n",
       "  <thead>\n",
       "    <tr style=\"text-align: right;\">\n",
       "      <th></th>\n",
       "      <th>maf/file_id</th>\n",
       "      <th>maf/filename</th>\n",
       "      <th>maf/sample</th>\n",
       "      <th>tissue</th>\n",
       "    </tr>\n",
       "    <tr>\n",
       "      <th>participant</th>\n",
       "      <th></th>\n",
       "      <th></th>\n",
       "      <th></th>\n",
       "      <th></th>\n",
       "    </tr>\n",
       "  </thead>\n",
       "  <tbody>\n",
       "    <tr>\n",
       "      <th>11LU013</th>\n",
       "      <td>ac9aba0d-dc3c-4d84-9fda-8405a5908ad0</td>\n",
       "      <td>29612340-6316-4225-a5a3-9c6dc9a66db4.wxs.aliqu...</td>\n",
       "      <td>9f905736-f662-41d6-b3ac-16758d, c7788b82-8190-...</td>\n",
       "      <td>Primary Tumor, Blood Derived Normal</td>\n",
       "    </tr>\n",
       "    <tr>\n",
       "      <th>11LU016</th>\n",
       "      <td>71eca4a5-ca99-491d-9c3a-e0c6ec41b044</td>\n",
       "      <td>b2d4e73f-1809-4f0e-ab08-116c0026c512.wxs.aliqu...</td>\n",
       "      <td>93e30fd5-e57e-4503-a175-863c7d, 953d4247-a33a-...</td>\n",
       "      <td>Primary Tumor, Blood Derived Normal</td>\n",
       "    </tr>\n",
       "    <tr>\n",
       "      <th>11LU022</th>\n",
       "      <td>49c4d3e5-acd7-4690-b141-797ff60126be</td>\n",
       "      <td>d478e504-a423-4c1f-8455-7946f02f6c9e.wxs.aliqu...</td>\n",
       "      <td>a55e011d-f91f-4dbd-98e1-328e05, 5a84eae1-197e-...</td>\n",
       "      <td>Blood Derived Normal, Primary Tumor</td>\n",
       "    </tr>\n",
       "    <tr>\n",
       "      <th>11LU035</th>\n",
       "      <td>b18d9782-7ddc-4ad5-83c7-1ccebd8d66a3</td>\n",
       "      <td>cf6f7b60-8614-44cf-b5c6-051a4857c683.wxs.aliqu...</td>\n",
       "      <td>2f2e5477-42a4-4906-a943-bf7f80, 6b328a7b-2d97-...</td>\n",
       "      <td>Primary Tumor, Blood Derived Normal</td>\n",
       "    </tr>\n",
       "    <tr>\n",
       "      <th>C3L-00001</th>\n",
       "      <td>bb59f841-bf82-47d1-ad2d-173a648f2b68</td>\n",
       "      <td>59c962fd-c193-4418-8d00-d165d6054431.wxs.aliqu...</td>\n",
       "      <td>C3L-00001-32, C3L-00001-02</td>\n",
       "      <td>Blood Derived Normal, Primary Tumor</td>\n",
       "    </tr>\n",
       "  </tbody>\n",
       "</table>\n",
       "</div>"
      ],
      "text/plain": [
       "                                      maf/file_id  \\\n",
       "participant                                         \n",
       "11LU013      ac9aba0d-dc3c-4d84-9fda-8405a5908ad0   \n",
       "11LU016      71eca4a5-ca99-491d-9c3a-e0c6ec41b044   \n",
       "11LU022      49c4d3e5-acd7-4690-b141-797ff60126be   \n",
       "11LU035      b18d9782-7ddc-4ad5-83c7-1ccebd8d66a3   \n",
       "C3L-00001    bb59f841-bf82-47d1-ad2d-173a648f2b68   \n",
       "\n",
       "                                                  maf/filename  \\\n",
       "participant                                                      \n",
       "11LU013      29612340-6316-4225-a5a3-9c6dc9a66db4.wxs.aliqu...   \n",
       "11LU016      b2d4e73f-1809-4f0e-ab08-116c0026c512.wxs.aliqu...   \n",
       "11LU022      d478e504-a423-4c1f-8455-7946f02f6c9e.wxs.aliqu...   \n",
       "11LU035      cf6f7b60-8614-44cf-b5c6-051a4857c683.wxs.aliqu...   \n",
       "C3L-00001    59c962fd-c193-4418-8d00-d165d6054431.wxs.aliqu...   \n",
       "\n",
       "                                                    maf/sample  \\\n",
       "participant                                                      \n",
       "11LU013      9f905736-f662-41d6-b3ac-16758d, c7788b82-8190-...   \n",
       "11LU016      93e30fd5-e57e-4503-a175-863c7d, 953d4247-a33a-...   \n",
       "11LU022      a55e011d-f91f-4dbd-98e1-328e05, 5a84eae1-197e-...   \n",
       "11LU035      2f2e5477-42a4-4906-a943-bf7f80, 6b328a7b-2d97-...   \n",
       "C3L-00001                           C3L-00001-32, C3L-00001-02   \n",
       "\n",
       "                                          tissue  \n",
       "participant                                       \n",
       "11LU013      Primary Tumor, Blood Derived Normal  \n",
       "11LU016      Primary Tumor, Blood Derived Normal  \n",
       "11LU022      Blood Derived Normal, Primary Tumor  \n",
       "11LU035      Primary Tumor, Blood Derived Normal  \n",
       "C3L-00001    Blood Derived Normal, Primary Tumor  "
      ]
     },
     "execution_count": 7,
     "metadata": {},
     "output_type": "execute_result"
    }
   ],
   "source": [
    "dna_samplesheet = (\n",
    "    pd.read_csv('../data/gdc_sample_sheet.2023-08-06.tsv', delimiter='\\t')\n",
    "      .assign(\n",
    "        participant=lambda df: df['Case ID'].str.split(', ', expand=True)[0]\n",
    "      )\n",
    "      .rename({\n",
    "        'File ID': 'maf/file_id',\n",
    "        'File Name': 'maf/filename',\n",
    "        'Sample ID': 'maf/sample',\n",
    "        'Sample Type': 'tissue'\n",
    "      }, axis=1)\n",
    "      .loc[:, ['maf/file_id', 'maf/filename', 'maf/sample', 'tissue', 'participant']]\n",
    "      .set_index('participant')\n",
    "      .sort_index()\n",
    ")\n",
    "\n",
    "dna_samplesheet.head()\n"
   ]
  },
  {
   "cell_type": "markdown",
   "metadata": {},
   "source": [
    "# Turn the case ID to the patient/submitter ID"
   ]
  },
  {
   "cell_type": "code",
   "execution_count": 10,
   "metadata": {},
   "outputs": [
    {
     "data": {
      "text/plain": [
       "'C3N-01220'"
      ]
     },
     "execution_count": 10,
     "metadata": {},
     "output_type": "execute_result"
    }
   ],
   "source": [
    "import requests\n",
    "def case2submitter(case_id):\n",
    "    url = 'https://api.gdc.cancer.gov'\n",
    "    service = 'cases'\n",
    "    resp = requests.get(f'{url}/{service}/{case_id}').json()\n",
    "    submitter_id = resp['data']['submitter_id']\n",
    "    return submitter_id\n",
    "\n",
    "case2submitter('c6c75c5d-b3c9-4918-8dc2-02849933cd3c')"
   ]
  },
  {
   "cell_type": "code",
   "execution_count": 12,
   "metadata": {},
   "outputs": [],
   "source": [
    "colnames = [\n",
    "    'Hugo_Symbol', 'Chromosome', 'Start_Position', 'End_Position', \n",
    "    'Strand', 'Variant_Classification', 'dbSNP_RS', 'SYMBOL', 'CANONICAL',\n",
    "    'SWISSPROT', 'TREMBL', 'UNIPROT_ISOFORM', 'RefSeq', 'MANE', 'case_id', \n",
    "    'IMPACT'\n",
    "]\n",
    "\n",
    "variants = []\n",
    "for _, row in dna_samplesheet.iterrows():\n",
    "    filepath = f'../data/snv/{row[\"maf/file_id\"]}/{row[\"maf/filename\"]}'\n",
    "    maf = (\n",
    "        pd.read_csv(filepath, delimiter='\\t', comment='#', compression='gzip')\n",
    "          .loc[:, colnames]\n",
    "    )\n",
    "    if maf.empty:\n",
    "        logging.warning(f'MAF {f} is empty!')\n",
    "        continue\n",
    "    case_id = maf['case_id'].unique()[0]\n",
    "    maf['PatientID'] = case2submitter(case_id)\n",
    "    maf = maf.pivot(index=['Hugo_Symbol', 'Chromosome', 'Start_Position', 'End_Position'], columns=['PatientID'], values='IMPACT')\n",
    "    variants.append(maf)\n",
    "variants = pd.concat(variants)\n",
    "variants.to_csv('../data/variants.csv')\n",
    "    "
   ]
  },
  {
   "cell_type": "code",
   "execution_count": 23,
   "metadata": {},
   "outputs": [
    {
     "data": {
      "text/plain": [
       "Hugo_Symbol  Chromosome  Start_Position  End_Position\n",
       "ABCB1        chr7        87600138        87600138        MODERATE\n",
       "ABCG1        chr21       42259371        42259371        MODIFIER\n",
       "AC013489.1   chr15       88530849        88530849        MODERATE\n",
       "AC244197.3   chrX        149483000       149483000       MODERATE\n",
       "ADCY2        chr5        7709248         7709248         MODERATE\n",
       "                                                           ...   \n",
       "XIRP2        chr2        167239888       167239888       MODERATE\n",
       "ZFP92        chrX        153421328       153421328       MODERATE\n",
       "ZNF320       chr19       52881956        52881956        MODERATE\n",
       "ZNF423       chr16       49636578        49636578             LOW\n",
       "ZNF513       chr2        27378646        27378646        MODERATE\n",
       "Name: C3L-00001, Length: 76, dtype: object"
      ]
     },
     "execution_count": 23,
     "metadata": {},
     "output_type": "execute_result"
    },
    {
     "data": {
      "text/plain": [
       "Hugo_Symbol  Chromosome  Start_Position  End_Position\n",
       "DPP6         chr7        154772888       154772888           HIGH\n",
       "DIXDC1       chr11       111996144       111996144           HIGH\n",
       "CACNB1       chr17       39183814        39183814            HIGH\n",
       "SPRED1       chr15       38351313        38351313             LOW\n",
       "SLC28A3      chr9        84313383        84313383             LOW\n",
       "                                                           ...   \n",
       "SFRP4        chr7        37916551        37916551        MODIFIER\n",
       "SPTBN1       chr2        54529417        54529417        MODIFIER\n",
       "SHANK1       chr19       50687039        50687039        MODIFIER\n",
       "ABCG1        chr21       42259371        42259371        MODIFIER\n",
       "AL049777.1   chr14       28778159        28778159        MODIFIER\n",
       "Name: C3L-00001, Length: 76, dtype: object"
      ]
     },
     "execution_count": 23,
     "metadata": {},
     "output_type": "execute_result"
    }
   ],
   "source": [
    "variants['C3L-00001'].dropna().sort_values()  # This patient's tumor had 76 mutations, three of them of which are highly likely to severely affect the protein"
   ]
  }
 ],
 "metadata": {
  "kernelspec": {
   "display_name": "Python 3",
   "language": "python",
   "name": "python3"
  },
  "language_info": {
   "codemirror_mode": {
    "name": "ipython",
    "version": 3
   },
   "file_extension": ".py",
   "mimetype": "text/x-python",
   "name": "python",
   "nbconvert_exporter": "python",
   "pygments_lexer": "ipython3",
   "version": "3.9.6"
  },
  "orig_nbformat": 4
 },
 "nbformat": 4,
 "nbformat_minor": 2
}
